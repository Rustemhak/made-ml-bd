{
  "nbformat": 4,
  "nbformat_minor": 0,
  "metadata": {
    "colab": {
      "provenance": []
    },
    "kernelspec": {
      "name": "python3",
      "display_name": "Python 3"
    },
    "language_info": {
      "name": "python"
    }
  },
  "cells": [
    {
      "cell_type": "code",
      "execution_count": 37,
      "metadata": {
        "colab": {
          "base_uri": "https://localhost:8080/"
        },
        "id": "MxYtM0mTP5Dl",
        "outputId": "8d39153c-256f-4077-e231-d09475a57b0b"
      },
      "outputs": [
        {
          "output_type": "stream",
          "name": "stdout",
          "text": [
            "mean = 152.7206871868289, var = 57672.84569843359\n"
          ]
        }
      ],
      "source": [
        "import pandas as pd\n",
        "import numpy as np\n",
        "price = pd.read_csv('AB_NYC_2019.csv')['price'].to_numpy()\n",
        "print(f'mean = {price.mean()}, var = {price.var()}')"
      ]
    }
  ]
}